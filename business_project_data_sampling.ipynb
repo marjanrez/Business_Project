{
 "cells": [
  {
   "cell_type": "markdown",
   "id": "8538e58c",
   "metadata": {},
   "source": [
    "## BUSINESS PROJECT"
   ]
  },
  {
   "cell_type": "markdown",
   "id": "b27afe99",
   "metadata": {},
   "source": [
    "## Credit Card Fraud Detection"
   ]
  },
  {
   "cell_type": "markdown",
   "id": "f2c0b772",
   "metadata": {},
   "source": [
    "\n",
    "- With this extensive use of credit cards, fraud appears as a major issue in the credit card business.\n",
    "- Credit card fraud detection relies on the analysis of recorded transactions.\n",
    "\n",
    "- Fraud detection is a collection of processes and techniques designed to identify, monitor, and prevent fraud.\n",
    "- Detecting fraud is the first step in identifying where the risk lies. We can then prevent it automatically or even manually using some fraud detection software."
   ]
  },
  {
   "cell_type": "markdown",
   "id": "7f6fa3e8",
   "metadata": {},
   "source": [
    "### Challenges in Data :\n",
    "- Frauds represent a small fraction of all the daily transactions.\n",
    "- Frauds distribution evolves over time because of seasonality and new attack strategies."
   ]
  },
  {
   "cell_type": "markdown",
   "id": "51a5607e",
   "metadata": {},
   "source": [
    "- First of all I am going to providie data for using in Excel, then do some exploratory data analysis. afte that, I am going to do data analysis and aggregating in Excel, and provide multiple plots on Excel and Tableau as well. "
   ]
  },
  {
   "cell_type": "markdown",
   "id": "d5ac1279",
   "metadata": {},
   "source": [
    "## Data sampling for my project to work with in Excel and Tableau"
   ]
  },
  {
   "cell_type": "code",
   "execution_count": 2,
   "id": "8c7ee4c5",
   "metadata": {},
   "outputs": [],
   "source": [
    "import numpy as np\n",
    "import pandas as pd\n",
    "import json\n",
    "import matplotlib.pyplot as plt\n",
    "import seaborn as sns"
   ]
  },
  {
   "cell_type": "code",
   "execution_count": 3,
   "id": "18fc1f0e",
   "metadata": {},
   "outputs": [],
   "source": [
    "def read_data(path):\n",
    "    '''\n",
    "    this function will read the txt file which is a line-delimited json file and produce a pandas dataframe.\n",
    "    \n",
    "    '''\n",
    "    my_list =[]\n",
    "    with open(path) as f:\n",
    "        for line in f:\n",
    "            json_content = json.loads(line)\n",
    "            my_list.append(json_content)\n",
    "    #df = pd.DataFrame(my_list) \n",
    "    return(pd.DataFrame(my_list))"
   ]
  },
  {
   "cell_type": "code",
   "execution_count": 4,
   "id": "adc64d51",
   "metadata": {},
   "outputs": [],
   "source": [
    "df = read_data('transactions.txt')"
   ]
  },
  {
   "cell_type": "code",
   "execution_count": 5,
   "id": "e1959a5e",
   "metadata": {},
   "outputs": [
    {
     "data": {
      "text/html": [
       "<div>\n",
       "<style scoped>\n",
       "    .dataframe tbody tr th:only-of-type {\n",
       "        vertical-align: middle;\n",
       "    }\n",
       "\n",
       "    .dataframe tbody tr th {\n",
       "        vertical-align: top;\n",
       "    }\n",
       "\n",
       "    .dataframe thead th {\n",
       "        text-align: right;\n",
       "    }\n",
       "</style>\n",
       "<table border=\"1\" class=\"dataframe\">\n",
       "  <thead>\n",
       "    <tr style=\"text-align: right;\">\n",
       "      <th></th>\n",
       "      <th>accountNumber</th>\n",
       "      <th>customerId</th>\n",
       "      <th>creditLimit</th>\n",
       "      <th>availableMoney</th>\n",
       "      <th>transactionDateTime</th>\n",
       "      <th>transactionAmount</th>\n",
       "      <th>merchantName</th>\n",
       "      <th>acqCountry</th>\n",
       "      <th>merchantCountryCode</th>\n",
       "      <th>posEntryMode</th>\n",
       "      <th>...</th>\n",
       "      <th>isFraud</th>\n",
       "      <th>echoBuffer</th>\n",
       "      <th>currentBalance</th>\n",
       "      <th>merchantCity</th>\n",
       "      <th>merchantState</th>\n",
       "      <th>merchantZip</th>\n",
       "      <th>cardPresent</th>\n",
       "      <th>posOnPremises</th>\n",
       "      <th>recurringAuthInd</th>\n",
       "      <th>expirationDateKeyInMatch</th>\n",
       "    </tr>\n",
       "  </thead>\n",
       "  <tbody>\n",
       "    <tr>\n",
       "      <th>641909</th>\n",
       "      <td>186770399</td>\n",
       "      <td>186770399</td>\n",
       "      <td>7500.0</td>\n",
       "      <td>2574.02</td>\n",
       "      <td>2016-12-04T12:29:21</td>\n",
       "      <td>5.37</td>\n",
       "      <td>Apple iTunes</td>\n",
       "      <td>US</td>\n",
       "      <td>US</td>\n",
       "      <td>05</td>\n",
       "      <td>...</td>\n",
       "      <td>False</td>\n",
       "      <td></td>\n",
       "      <td>4925.98</td>\n",
       "      <td></td>\n",
       "      <td></td>\n",
       "      <td></td>\n",
       "      <td>False</td>\n",
       "      <td></td>\n",
       "      <td></td>\n",
       "      <td>False</td>\n",
       "    </tr>\n",
       "    <tr>\n",
       "      <th>641910</th>\n",
       "      <td>186770399</td>\n",
       "      <td>186770399</td>\n",
       "      <td>7500.0</td>\n",
       "      <td>2568.65</td>\n",
       "      <td>2016-12-09T04:20:35</td>\n",
       "      <td>223.70</td>\n",
       "      <td>Blue Mountain eCards</td>\n",
       "      <td>US</td>\n",
       "      <td>US</td>\n",
       "      <td>09</td>\n",
       "      <td>...</td>\n",
       "      <td>False</td>\n",
       "      <td></td>\n",
       "      <td>4931.35</td>\n",
       "      <td></td>\n",
       "      <td></td>\n",
       "      <td></td>\n",
       "      <td>False</td>\n",
       "      <td></td>\n",
       "      <td></td>\n",
       "      <td>False</td>\n",
       "    </tr>\n",
       "    <tr>\n",
       "      <th>641911</th>\n",
       "      <td>186770399</td>\n",
       "      <td>186770399</td>\n",
       "      <td>7500.0</td>\n",
       "      <td>2344.95</td>\n",
       "      <td>2016-12-16T07:58:23</td>\n",
       "      <td>138.42</td>\n",
       "      <td>Fresh Flowers</td>\n",
       "      <td>US</td>\n",
       "      <td>US</td>\n",
       "      <td>02</td>\n",
       "      <td>...</td>\n",
       "      <td>False</td>\n",
       "      <td></td>\n",
       "      <td>5155.05</td>\n",
       "      <td></td>\n",
       "      <td></td>\n",
       "      <td></td>\n",
       "      <td>False</td>\n",
       "      <td></td>\n",
       "      <td></td>\n",
       "      <td>False</td>\n",
       "    </tr>\n",
       "    <tr>\n",
       "      <th>641912</th>\n",
       "      <td>186770399</td>\n",
       "      <td>186770399</td>\n",
       "      <td>7500.0</td>\n",
       "      <td>2206.53</td>\n",
       "      <td>2016-12-19T02:30:35</td>\n",
       "      <td>16.31</td>\n",
       "      <td>abc.com</td>\n",
       "      <td>US</td>\n",
       "      <td>US</td>\n",
       "      <td>09</td>\n",
       "      <td>...</td>\n",
       "      <td>False</td>\n",
       "      <td></td>\n",
       "      <td>5293.47</td>\n",
       "      <td></td>\n",
       "      <td></td>\n",
       "      <td></td>\n",
       "      <td>False</td>\n",
       "      <td></td>\n",
       "      <td></td>\n",
       "      <td>False</td>\n",
       "    </tr>\n",
       "    <tr>\n",
       "      <th>641913</th>\n",
       "      <td>186770399</td>\n",
       "      <td>186770399</td>\n",
       "      <td>7500.0</td>\n",
       "      <td>2190.22</td>\n",
       "      <td>2016-12-28T11:14:14</td>\n",
       "      <td>32.53</td>\n",
       "      <td>Next Day Online Services</td>\n",
       "      <td>US</td>\n",
       "      <td>US</td>\n",
       "      <td>09</td>\n",
       "      <td>...</td>\n",
       "      <td>False</td>\n",
       "      <td></td>\n",
       "      <td>5309.78</td>\n",
       "      <td></td>\n",
       "      <td></td>\n",
       "      <td></td>\n",
       "      <td>False</td>\n",
       "      <td></td>\n",
       "      <td></td>\n",
       "      <td>False</td>\n",
       "    </tr>\n",
       "  </tbody>\n",
       "</table>\n",
       "<p>5 rows × 29 columns</p>\n",
       "</div>"
      ],
      "text/plain": [
       "       accountNumber customerId  creditLimit  availableMoney  \\\n",
       "641909     186770399  186770399       7500.0         2574.02   \n",
       "641910     186770399  186770399       7500.0         2568.65   \n",
       "641911     186770399  186770399       7500.0         2344.95   \n",
       "641912     186770399  186770399       7500.0         2206.53   \n",
       "641913     186770399  186770399       7500.0         2190.22   \n",
       "\n",
       "        transactionDateTime  transactionAmount              merchantName  \\\n",
       "641909  2016-12-04T12:29:21               5.37              Apple iTunes   \n",
       "641910  2016-12-09T04:20:35             223.70      Blue Mountain eCards   \n",
       "641911  2016-12-16T07:58:23             138.42             Fresh Flowers   \n",
       "641912  2016-12-19T02:30:35              16.31                   abc.com   \n",
       "641913  2016-12-28T11:14:14              32.53  Next Day Online Services   \n",
       "\n",
       "       acqCountry merchantCountryCode posEntryMode  ... isFraud echoBuffer  \\\n",
       "641909         US                  US           05  ...   False              \n",
       "641910         US                  US           09  ...   False              \n",
       "641911         US                  US           02  ...   False              \n",
       "641912         US                  US           09  ...   False              \n",
       "641913         US                  US           09  ...   False              \n",
       "\n",
       "       currentBalance merchantCity merchantState merchantZip cardPresent  \\\n",
       "641909        4925.98                                              False   \n",
       "641910        4931.35                                              False   \n",
       "641911        5155.05                                              False   \n",
       "641912        5293.47                                              False   \n",
       "641913        5309.78                                              False   \n",
       "\n",
       "       posOnPremises recurringAuthInd  expirationDateKeyInMatch  \n",
       "641909                                                    False  \n",
       "641910                                                    False  \n",
       "641911                                                    False  \n",
       "641912                                                    False  \n",
       "641913                                                    False  \n",
       "\n",
       "[5 rows x 29 columns]"
      ]
     },
     "execution_count": 5,
     "metadata": {},
     "output_type": "execute_result"
    }
   ],
   "source": [
    "df.tail()"
   ]
  },
  {
   "cell_type": "code",
   "execution_count": 6,
   "id": "db244fef",
   "metadata": {},
   "outputs": [
    {
     "data": {
      "text/plain": [
       "(641914, 29)"
      ]
     },
     "execution_count": 6,
     "metadata": {},
     "output_type": "execute_result"
    }
   ],
   "source": [
    "df.shape"
   ]
  },
  {
   "cell_type": "markdown",
   "id": "1ebc1609",
   "metadata": {},
   "source": [
    "- This dataset has 641914 records(observations) and 29 features."
   ]
  },
  {
   "cell_type": "code",
   "execution_count": 7,
   "id": "65cd352b",
   "metadata": {},
   "outputs": [],
   "source": [
    "df_copy = df"
   ]
  },
  {
   "cell_type": "code",
   "execution_count": 9,
   "id": "eff96910",
   "metadata": {},
   "outputs": [
    {
     "data": {
      "text/plain": [
       "(641914, 29)"
      ]
     },
     "execution_count": 9,
     "metadata": {},
     "output_type": "execute_result"
    }
   ],
   "source": [
    "df_copy.shape"
   ]
  },
  {
   "cell_type": "code",
   "execution_count": 28,
   "id": "900d3794",
   "metadata": {},
   "outputs": [],
   "source": [
    "mar = df_copy.sample(1300)"
   ]
  },
  {
   "cell_type": "code",
   "execution_count": 29,
   "id": "6f3f7494",
   "metadata": {
    "scrolled": true
   },
   "outputs": [
    {
     "name": "stdout",
     "output_type": "stream",
     "text": [
      "<class 'pandas.core.frame.DataFrame'>\n",
      "Int64Index: 1300 entries, 382507 to 409262\n",
      "Data columns (total 29 columns):\n",
      " #   Column                    Non-Null Count  Dtype  \n",
      "---  ------                    --------------  -----  \n",
      " 0   accountNumber             1300 non-null   object \n",
      " 1   customerId                1300 non-null   object \n",
      " 2   creditLimit               1300 non-null   float64\n",
      " 3   availableMoney            1300 non-null   float64\n",
      " 4   transactionDateTime       1300 non-null   object \n",
      " 5   transactionAmount         1300 non-null   float64\n",
      " 6   merchantName              1300 non-null   object \n",
      " 7   acqCountry                1300 non-null   object \n",
      " 8   merchantCountryCode       1300 non-null   object \n",
      " 9   posEntryMode              1300 non-null   object \n",
      " 10  posConditionCode          1300 non-null   object \n",
      " 11  merchantCategoryCode      1300 non-null   object \n",
      " 12  currentExpDate            1300 non-null   object \n",
      " 13  accountOpenDate           1300 non-null   object \n",
      " 14  dateOfLastAddressChange   1300 non-null   object \n",
      " 15  cardCVV                   1300 non-null   object \n",
      " 16  enteredCVV                1300 non-null   object \n",
      " 17  cardLast4Digits           1300 non-null   object \n",
      " 18  transactionType           1300 non-null   object \n",
      " 19  isFraud                   1300 non-null   bool   \n",
      " 20  echoBuffer                1300 non-null   object \n",
      " 21  currentBalance            1300 non-null   float64\n",
      " 22  merchantCity              1300 non-null   object \n",
      " 23  merchantState             1300 non-null   object \n",
      " 24  merchantZip               1300 non-null   object \n",
      " 25  cardPresent               1300 non-null   bool   \n",
      " 26  posOnPremises             1300 non-null   object \n",
      " 27  recurringAuthInd          1300 non-null   object \n",
      " 28  expirationDateKeyInMatch  1300 non-null   bool   \n",
      "dtypes: bool(3), float64(4), object(22)\n",
      "memory usage: 278.0+ KB\n"
     ]
    }
   ],
   "source": [
    "mar.info()"
   ]
  },
  {
   "cell_type": "code",
   "execution_count": 30,
   "id": "17e10452",
   "metadata": {},
   "outputs": [
    {
     "data": {
      "text/plain": [
       "False    1264\n",
       "True       36\n",
       "Name: isFraud, dtype: int64"
      ]
     },
     "execution_count": 30,
     "metadata": {},
     "output_type": "execute_result"
    }
   ],
   "source": [
    "mar.isFraud.value_counts()"
   ]
  },
  {
   "cell_type": "code",
   "execution_count": 32,
   "id": "1eed3d4a",
   "metadata": {},
   "outputs": [],
   "source": [
    "mar.to_csv(\"Output3.csv\")"
   ]
  },
  {
   "cell_type": "markdown",
   "id": "48b8633f",
   "metadata": {},
   "source": [
    "### Exploratory Data Analysis"
   ]
  },
  {
   "cell_type": "code",
   "execution_count": 13,
   "id": "ab8489b0",
   "metadata": {},
   "outputs": [],
   "source": [
    "# Replacing blank values with nan\n",
    "\n",
    "df.replace(r'^\\s*$', np.nan, regex=True, inplace=True) "
   ]
  },
  {
   "cell_type": "code",
   "execution_count": 14,
   "id": "d087825a",
   "metadata": {
    "scrolled": true
   },
   "outputs": [
    {
     "data": {
      "text/html": [
       "<div>\n",
       "<style scoped>\n",
       "    .dataframe tbody tr th:only-of-type {\n",
       "        vertical-align: middle;\n",
       "    }\n",
       "\n",
       "    .dataframe tbody tr th {\n",
       "        vertical-align: top;\n",
       "    }\n",
       "\n",
       "    .dataframe thead th {\n",
       "        text-align: right;\n",
       "    }\n",
       "</style>\n",
       "<table border=\"1\" class=\"dataframe\">\n",
       "  <thead>\n",
       "    <tr style=\"text-align: right;\">\n",
       "      <th></th>\n",
       "      <th>creditLimit</th>\n",
       "      <th>availableMoney</th>\n",
       "      <th>transactionAmount</th>\n",
       "      <th>currentBalance</th>\n",
       "    </tr>\n",
       "  </thead>\n",
       "  <tbody>\n",
       "    <tr>\n",
       "      <th>count</th>\n",
       "      <td>641914.000000</td>\n",
       "      <td>641914.000000</td>\n",
       "      <td>641914.000000</td>\n",
       "      <td>641914.000000</td>\n",
       "    </tr>\n",
       "    <tr>\n",
       "      <th>mean</th>\n",
       "      <td>10697.210608</td>\n",
       "      <td>6652.828573</td>\n",
       "      <td>135.162497</td>\n",
       "      <td>4044.382035</td>\n",
       "    </tr>\n",
       "    <tr>\n",
       "      <th>std</th>\n",
       "      <td>11460.359133</td>\n",
       "      <td>9227.132275</td>\n",
       "      <td>147.053302</td>\n",
       "      <td>5945.510224</td>\n",
       "    </tr>\n",
       "    <tr>\n",
       "      <th>min</th>\n",
       "      <td>250.000000</td>\n",
       "      <td>-1244.930000</td>\n",
       "      <td>0.000000</td>\n",
       "      <td>0.000000</td>\n",
       "    </tr>\n",
       "    <tr>\n",
       "      <th>25%</th>\n",
       "      <td>5000.000000</td>\n",
       "      <td>1114.970000</td>\n",
       "      <td>32.320000</td>\n",
       "      <td>502.442500</td>\n",
       "    </tr>\n",
       "    <tr>\n",
       "      <th>50%</th>\n",
       "      <td>7500.000000</td>\n",
       "      <td>3578.165000</td>\n",
       "      <td>85.800000</td>\n",
       "      <td>2151.860000</td>\n",
       "    </tr>\n",
       "    <tr>\n",
       "      <th>75%</th>\n",
       "      <td>15000.000000</td>\n",
       "      <td>8169.185000</td>\n",
       "      <td>189.030000</td>\n",
       "      <td>5005.890000</td>\n",
       "    </tr>\n",
       "    <tr>\n",
       "      <th>max</th>\n",
       "      <td>50000.000000</td>\n",
       "      <td>50000.000000</td>\n",
       "      <td>1825.250000</td>\n",
       "      <td>47496.500000</td>\n",
       "    </tr>\n",
       "  </tbody>\n",
       "</table>\n",
       "</div>"
      ],
      "text/plain": [
       "         creditLimit  availableMoney  transactionAmount  currentBalance\n",
       "count  641914.000000   641914.000000      641914.000000   641914.000000\n",
       "mean    10697.210608     6652.828573         135.162497     4044.382035\n",
       "std     11460.359133     9227.132275         147.053302     5945.510224\n",
       "min       250.000000    -1244.930000           0.000000        0.000000\n",
       "25%      5000.000000     1114.970000          32.320000      502.442500\n",
       "50%      7500.000000     3578.165000          85.800000     2151.860000\n",
       "75%     15000.000000     8169.185000         189.030000     5005.890000\n",
       "max     50000.000000    50000.000000        1825.250000    47496.500000"
      ]
     },
     "execution_count": 14,
     "metadata": {},
     "output_type": "execute_result"
    }
   ],
   "source": [
    "df.describe()"
   ]
  },
  {
   "cell_type": "markdown",
   "id": "81e851f7",
   "metadata": {},
   "source": [
    "### Observations:"
   ]
  },
  {
   "cell_type": "markdown",
   "id": "69c5729c",
   "metadata": {},
   "source": [
    "There are 641914 instances in the dataset. We have some numerical attributes like 'availableMoney', 'creditLimit', and some categorical attributes like 'merchantCategoryCode', 'merchantName'. We have few attributes which totally have missing values. These attributes are:\n",
    "\n",
    "- echoBuffer\n",
    "- merchantCity\n",
    "- merchantState\n",
    "- merchantZip\n",
    "- posOnPremises\n",
    "- recurringAuthInd\n",
    "\n",
    "I can drop these columns. Some attributes like 'acqCountry' has around 3913 missing values. first, I need to handle these missing values."
   ]
  },
  {
   "cell_type": "markdown",
   "id": "2e40aeea",
   "metadata": {},
   "source": [
    "#### Handeling missing values\n",
    "\n",
    "there is few options:\n",
    "\n",
    "- totally drop those attributes from data.\n",
    "- Drop those records (remove rows where these attributes are missing)\n",
    "- Set the missing to some values. For numerical attributes, we can set them to the mean/median, and for categorical attributes we can set them to the most frequent category."
   ]
  },
  {
   "cell_type": "markdown",
   "id": "a44441a7",
   "metadata": {},
   "source": [
    "I am going to drop these attributes which totally have missing values from data."
   ]
  },
  {
   "cell_type": "code",
   "execution_count": 15,
   "id": "ad2fef4f",
   "metadata": {},
   "outputs": [],
   "source": [
    "df=df.drop(['echoBuffer','merchantCity','merchantState', 'merchantZip', 'posOnPremises', \n",
    "'recurringAuthInd'], axis=1)"
   ]
  },
  {
   "cell_type": "code",
   "execution_count": 16,
   "id": "c4ad1495",
   "metadata": {},
   "outputs": [
    {
     "data": {
      "text/plain": [
       "(641914, 23)"
      ]
     },
     "execution_count": 16,
     "metadata": {},
     "output_type": "execute_result"
    }
   ],
   "source": [
    "df.shape"
   ]
  },
  {
   "cell_type": "markdown",
   "id": "2c09d95e",
   "metadata": {},
   "source": [
    "#### Convert to Numeric"
   ]
  },
  {
   "cell_type": "code",
   "execution_count": 17,
   "id": "91164ebd",
   "metadata": {},
   "outputs": [],
   "source": [
    "# numerical columns\n",
    "num_cols = ['availableMoney', 'creditLimit', 'currentBalance', 'transactionAmount']"
   ]
  },
  {
   "cell_type": "code",
   "execution_count": 18,
   "id": "03099ab0",
   "metadata": {},
   "outputs": [
    {
     "data": {
      "text/plain": [
       "Index(['accountNumber', 'customerId', 'transactionDateTime', 'merchantName',\n",
       "       'acqCountry', 'merchantCountryCode', 'posEntryMode', 'posConditionCode',\n",
       "       'merchantCategoryCode', 'currentExpDate', 'accountOpenDate',\n",
       "       'dateOfLastAddressChange', 'cardCVV', 'enteredCVV', 'cardLast4Digits',\n",
       "       'transactionType', 'cardPresent', 'expirationDateKeyInMatch'],\n",
       "      dtype='object')"
      ]
     },
     "execution_count": 18,
     "metadata": {},
     "output_type": "execute_result"
    }
   ],
   "source": [
    "# categorical columns\n",
    "cate_cols = df.columns.drop('isFraud').drop(num_cols)\n",
    "# display categorical columns\n",
    "cate_cols"
   ]
  },
  {
   "cell_type": "code",
   "execution_count": 19,
   "id": "cf962e21",
   "metadata": {},
   "outputs": [],
   "source": [
    "# convert numerical data \n",
    "df[num_cols] = df[num_cols].apply(pd.to_numeric, errors='coerce')"
   ]
  },
  {
   "cell_type": "markdown",
   "id": "0546df44",
   "metadata": {},
   "source": [
    "#### Categorical Feature Unique Values"
   ]
  },
  {
   "cell_type": "code",
   "execution_count": 21,
   "id": "e6f7174e",
   "metadata": {},
   "outputs": [
    {
     "data": {
      "text/plain": [
       "accountNumber                 5000\n",
       "customerId                    5000\n",
       "transactionDateTime         635472\n",
       "merchantName                  2493\n",
       "acqCountry                       4\n",
       "merchantCountryCode              4\n",
       "posEntryMode                     5\n",
       "posConditionCode                 3\n",
       "merchantCategoryCode            19\n",
       "currentExpDate                 165\n",
       "accountOpenDate               1826\n",
       "dateOfLastAddressChange       2186\n",
       "cardCVV                        899\n",
       "enteredCVV                     980\n",
       "cardLast4Digits               5134\n",
       "transactionType                  3\n",
       "cardPresent                      2\n",
       "expirationDateKeyInMatch         2\n",
       "dtype: int64"
      ]
     },
     "execution_count": 21,
     "metadata": {},
     "output_type": "execute_result"
    }
   ],
   "source": [
    "# check the number of unique values\n",
    "df[cate_cols].apply(lambda x: x.nunique(), axis=0)"
   ]
  },
  {
   "cell_type": "code",
   "execution_count": 22,
   "id": "3c53e805",
   "metadata": {},
   "outputs": [
    {
     "data": {
      "text/plain": [
       "accountNumber                  0\n",
       "customerId                     0\n",
       "creditLimit                    0\n",
       "availableMoney                 0\n",
       "transactionDateTime            0\n",
       "transactionAmount              0\n",
       "merchantName                   0\n",
       "acqCountry                  3913\n",
       "merchantCountryCode          624\n",
       "posEntryMode                3345\n",
       "posConditionCode             287\n",
       "merchantCategoryCode           0\n",
       "currentExpDate                 0\n",
       "accountOpenDate                0\n",
       "dateOfLastAddressChange        0\n",
       "cardCVV                        0\n",
       "enteredCVV                     0\n",
       "cardLast4Digits                0\n",
       "transactionType              589\n",
       "isFraud                        0\n",
       "currentBalance                 0\n",
       "cardPresent                    0\n",
       "expirationDateKeyInMatch       0\n",
       "dtype: int64"
      ]
     },
     "execution_count": 22,
     "metadata": {},
     "output_type": "execute_result"
    }
   ],
   "source": [
    "df.isna().sum()"
   ]
  },
  {
   "cell_type": "markdown",
   "id": "9dd505cf",
   "metadata": {},
   "source": [
    "#### let's drop rows which has NaN value"
   ]
  },
  {
   "cell_type": "code",
   "execution_count": 23,
   "id": "eda1a8e0",
   "metadata": {},
   "outputs": [],
   "source": [
    "df.dropna(how='any', subset=['acqCountry'], inplace=True)"
   ]
  },
  {
   "cell_type": "code",
   "execution_count": 24,
   "id": "b282f812",
   "metadata": {},
   "outputs": [],
   "source": [
    "df.dropna(how='any', subset=['merchantCountryCode'], inplace=True)"
   ]
  },
  {
   "cell_type": "code",
   "execution_count": 25,
   "id": "812206b4",
   "metadata": {},
   "outputs": [],
   "source": [
    "df.dropna(how='any', subset=['posEntryMode', 'posConditionCode', 'transactionType'], inplace=True)"
   ]
  },
  {
   "cell_type": "code",
   "execution_count": 26,
   "id": "6d2dc72d",
   "metadata": {},
   "outputs": [
    {
     "data": {
      "text/plain": [
       "accountNumber               0\n",
       "customerId                  0\n",
       "creditLimit                 0\n",
       "availableMoney              0\n",
       "transactionDateTime         0\n",
       "transactionAmount           0\n",
       "merchantName                0\n",
       "acqCountry                  0\n",
       "merchantCountryCode         0\n",
       "posEntryMode                0\n",
       "posConditionCode            0\n",
       "merchantCategoryCode        0\n",
       "currentExpDate              0\n",
       "accountOpenDate             0\n",
       "dateOfLastAddressChange     0\n",
       "cardCVV                     0\n",
       "enteredCVV                  0\n",
       "cardLast4Digits             0\n",
       "transactionType             0\n",
       "isFraud                     0\n",
       "currentBalance              0\n",
       "cardPresent                 0\n",
       "expirationDateKeyInMatch    0\n",
       "dtype: int64"
      ]
     },
     "execution_count": 26,
     "metadata": {},
     "output_type": "execute_result"
    }
   ],
   "source": [
    "df.isna().sum()"
   ]
  },
  {
   "cell_type": "markdown",
   "id": "1faa69c4",
   "metadata": {},
   "source": [
    "#### Plot"
   ]
  },
  {
   "cell_type": "code",
   "execution_count": 59,
   "id": "479c22b6",
   "metadata": {},
   "outputs": [
    {
     "data": {
      "image/png": "[encoded data removed]",
      "text/plain": [
       "<Figure size 432x288 with 1 Axes>"
      ]
     },
     "metadata": {
      "needs_background": "light"
     },
     "output_type": "display_data"
    },
    {
     "data": {
      "text/plain": [
       "False    622954\n",
       "True      10892\n",
       "Name: isFraud, dtype: int64"
      ]
     },
     "execution_count": 59,
     "metadata": {},
     "output_type": "execute_result"
    }
   ],
   "source": [
    "sns.countplot(x='isFraud', data=df, palette='hls')\n",
    "plt.show()\n",
    "df['isFraud'].value_counts()"
   ]
  },
  {
   "cell_type": "markdown",
   "id": "20b7b9d3",
   "metadata": {},
   "source": [
    "- This is a histogram of the processed amounts of each transaction, the transactionAmount column."
   ]
  },
  {
   "cell_type": "code",
   "execution_count": 50,
   "id": "a12a73e9",
   "metadata": {},
   "outputs": [
    {
     "data": {
      "image/png": "[encoded data removed]",
      "text/plain": [
       "<Figure size 432x288 with 1 Axes>"
      ]
     },
     "metadata": {
      "needs_background": "light"
     },
     "output_type": "display_data"
    },
    {
     "name": "stdout",
     "output_type": "stream",
     "text": [
      "bins are:\n",
      "[   0  100  200  300  400  500  600  700  800  900 1000 2000]\n",
      "\n",
      "\n",
      "counts for each bin are:\n",
      "[345988. 140630.  71564.  36731.  18764.   9807.   5062.   2517.   1380.\n",
      "    670.    733.]\n",
      "\n",
      "\n",
      "mean value of transactionAmount is 135.19063562757376\n",
      "median value of transactionAmount is  85.82\n"
     ]
    }
   ],
   "source": [
    "\n",
    "(n, bins,_) = plt.hist(df['transactionAmount'], bins=[0,100,200,300,400,500,600,700,800,900,1000,2000])\n",
    "plt.title('Histogram of transactionAmount')\n",
    "#plt.savefig(\"../results/transActionAmount_histogram.png\")\n",
    "plt.show()\n",
    "print('bins are:')\n",
    "print(bins)\n",
    "print('\\n')\n",
    "print('counts for each bin are:')\n",
    "print(n)\n",
    "print('\\n')\n",
    "print('mean value of transactionAmount is {}'.format(np.mean(df['transactionAmount'])))\n",
    "print('median value of transactionAmount is  {}'.format(np.median(df['transactionAmount'])))"
   ]
  },
  {
   "cell_type": "markdown",
   "id": "b9488c02",
   "metadata": {},
   "source": [
    "- From the histogram above (also count values for each bin), we observe that it has kind of right-skewed distribution (mean is in the right side of the median). Most of the transactions are concentrated around small values (in the range of [0,100]) and we have few observations for large value of transactions (amount >1000). This is actually what I was expecting from a typical card data. The day to day transactions would be small amounts, but large amounts would happen less frequent. These large amount could happen during special time (vacation travel during summer or holidays, one time big purchases, and so forth).\n"
   ]
  },
  {
   "cell_type": "code",
   "execution_count": 51,
   "id": "adcb3dd6",
   "metadata": {},
   "outputs": [
    {
     "data": {
      "text/plain": [
       "Text(0, 0.5, 'Frequency of Fraud')"
      ]
     },
     "execution_count": 51,
     "metadata": {},
     "output_type": "execute_result"
    },
    {
     "data": {
      "image/png": "[encoded data removed]",
      "text/plain": [
       "<Figure size 432x288 with 1 Axes>"
      ]
     },
     "metadata": {
      "needs_background": "light"
     },
     "output_type": "display_data"
    }
   ],
   "source": [
    "%matplotlib inline\n",
    "pd.crosstab(df.merchantCategoryCode,df.isFraud).plot(kind='bar')\n",
    "plt.title('Frequency of being fraud for merchantCategoryCode')\n",
    "plt.xlabel('merchantCategoryCode')\n",
    "plt.ylabel('Frequency of Fraud')"
   ]
  },
  {
   "cell_type": "code",
   "execution_count": 52,
   "id": "e50a9188",
   "metadata": {},
   "outputs": [
    {
     "data": {
      "text/plain": [
       "array(['US', 'PR', 'MEX', 'CAN'], dtype=object)"
      ]
     },
     "execution_count": 52,
     "metadata": {},
     "output_type": "execute_result"
    }
   ],
   "source": [
    "df.merchantCountryCode.unique()"
   ]
  },
  {
   "cell_type": "code",
   "execution_count": 53,
   "id": "6dc6d15b",
   "metadata": {},
   "outputs": [
    {
     "data": {
      "text/plain": [
       "Text(0, 0.5, 'Frequency of Fraud')"
      ]
     },
     "execution_count": 53,
     "metadata": {},
     "output_type": "execute_result"
    },
    {
     "data": {
      "image/png": "[encoded data removed]",
      "text/plain": [
       "<Figure size 432x288 with 1 Axes>"
      ]
     },
     "metadata": {
      "needs_background": "light"
     },
     "output_type": "display_data"
    }
   ],
   "source": [
    "pd.crosstab(df.merchantCountryCode,df.isFraud).plot(kind='bar')\n",
    "plt.title('Frequency of being fraud for merchantCountryCode')\n",
    "plt.xlabel('merchantCountryCode')\n",
    "plt.ylabel('Frequency of Fraud')"
   ]
  },
  {
   "cell_type": "markdown",
   "id": "d48a75bc",
   "metadata": {},
   "source": [
    "- as we can see in the plot, The frequency of being fraud does not depend on the merchantCountryCode. Thus, the merchantCountryCode can't be a good predictor of the outcome variable."
   ]
  },
  {
   "cell_type": "code",
   "execution_count": 54,
   "id": "9dcb8698",
   "metadata": {
    "scrolled": true
   },
   "outputs": [
    {
     "data": {
      "text/plain": [
       "Text(0, 0.5, 'Frequency of Fraud')"
      ]
     },
     "execution_count": 54,
     "metadata": {},
     "output_type": "execute_result"
    },
    {
     "data": {
      "image/png": "[encoded data removed]",
      "text/plain": [
       "<Figure size 432x288 with 1 Axes>"
      ]
     },
     "metadata": {
      "needs_background": "light"
     },
     "output_type": "display_data"
    }
   ],
   "source": [
    "pd.crosstab(df.creditLimit,df.isFraud).plot(kind='bar')\n",
    "plt.title('Frequency of being fraud')\n",
    "plt.xlabel('creditLimit')\n",
    "plt.ylabel('Frequency of Fraud')"
   ]
  },
  {
   "cell_type": "markdown",
   "id": "3b84092f",
   "metadata": {},
   "source": [
    "- even in this plot, as we can see, The frequency of being fraud does not depend on the creditLimit that much. Thus, the creditLimit either can't be a good predictor of the outcome variable."
   ]
  },
  {
   "cell_type": "code",
   "execution_count": 66,
   "id": "999d7c75",
   "metadata": {},
   "outputs": [
    {
     "name": "stderr",
     "output_type": "stream",
     "text": [
      "/anaconda3/lib/python3.7/site-packages/seaborn/axisgrid.py:337: UserWarning: The `size` parameter has been renamed to `height`; please update your code.\n",
      "  warnings.warn(msg, UserWarning)\n",
      "/anaconda3/lib/python3.7/site-packages/seaborn/distributions.py:2619: FutureWarning: `distplot` is a deprecated function and will be removed in a future version. Please adapt your code to use either `displot` (a figure-level function with similar flexibility) or `histplot` (an axes-level function for histograms).\n",
      "  warnings.warn(msg, FutureWarning)\n",
      "/anaconda3/lib/python3.7/site-packages/seaborn/distributions.py:2619: FutureWarning: `distplot` is a deprecated function and will be removed in a future version. Please adapt your code to use either `displot` (a figure-level function with similar flexibility) or `histplot` (an axes-level function for histograms).\n",
      "  warnings.warn(msg, FutureWarning)\n"
     ]
    },
    {
     "data": {
      "image/png": "[encoded data removed]",
      "text/plain": [
       "<Figure size 781.25x720 with 1 Axes>"
      ]
     },
     "metadata": {
      "needs_background": "light"
     },
     "output_type": "display_data"
    }
   ],
   "source": [
    "sns.FacetGrid(df, hue=\"isFraud\", size=10).map(sns.distplot, \"transactionAmount\").add_legend()\n",
    "plt.show()"
   ]
  },
  {
   "cell_type": "markdown",
   "id": "bf3b7080",
   "metadata": {},
   "source": [
    "- Most of the transaction have amount less than 1000 approximately and all of the fraud transactions have transaction amount less than 1750."
   ]
  },
  {
   "cell_type": "code",
   "execution_count": 67,
   "id": "7b55fcf5",
   "metadata": {},
   "outputs": [
    {
     "name": "stdout",
     "output_type": "stream",
     "text": [
      "pdf =  [7.38953941e-01 1.83615579e-01 5.43286540e-02 1.61821641e-02\n",
      " 4.88131186e-03 1.46407803e-03 4.14927285e-04 1.13592261e-04\n",
      " 3.62864166e-05 9.46602172e-06]\n",
      "\n",
      "\n",
      "Counts = [4.04850810e-03 1.00597495e-03 2.97650481e-04 8.86572476e-05\n",
      " 2.67432509e-05 8.02124654e-06 2.27326276e-06 6.22338094e-07\n",
      " 1.98802447e-07 5.18615078e-08]\n",
      "\n",
      "\n",
      "Bin edges =  [   0.     182.525  365.05   547.575  730.1    912.625 1095.15  1277.675\n",
      " 1460.2   1642.725 1825.25 ]\n"
     ]
    },
    {
     "data": {
      "image/png": "[encoded data removed]",
      "text/plain": [
       "<Figure size 432x288 with 1 Axes>"
      ]
     },
     "metadata": {
      "needs_background": "light"
     },
     "output_type": "display_data"
    }
   ],
   "source": [
    "counts, bin_edges = np.histogram(df['transactionAmount'], bins=10, density = True)\n",
    "pdf = counts/(sum(counts))\n",
    "\n",
    "print(\"pdf = \",pdf)\n",
    "print(\"\\n\")\n",
    "print(\"Counts =\",counts)\n",
    "print(\"\\n\")\n",
    "print(\"Bin edges = \",bin_edges)\n",
    "\n",
    "cdf = np.cumsum(pdf)\n",
    "plt.plot(bin_edges[1:],pdf)\n",
    "plt.plot(bin_edges[1:], cdf)\n",
    "\n",
    "\n",
    "\n",
    "plt.show();\n",
    "\n"
   ]
  },
  {
   "cell_type": "markdown",
   "id": "f1a8ba6b",
   "metadata": {},
   "source": [
    "- Observations: Probability of the points having transaction amount approximately less than 1750 is 1, it means almost all of the transactions have transaction amount less than 1750 and cdf curve verifies this fact."
   ]
  },
  {
   "cell_type": "markdown",
   "id": "0b295e2d",
   "metadata": {},
   "source": [
    "#### Now I am going to convert 'transactionDateTime' to an appropriate datetime fotmat that later, we can use it."
   ]
  },
  {
   "cell_type": "code",
   "execution_count": 61,
   "id": "d3eb1513",
   "metadata": {},
   "outputs": [],
   "source": [
    "# Let's first convert 'transactionDateTime' to an appropriate datetime fotmat that later, we can use it.\n",
    "dateTime_pdf = df['transactionDateTime'].str.split('T',expand = True)"
   ]
  },
  {
   "cell_type": "code",
   "execution_count": 62,
   "id": "22a19a2e",
   "metadata": {},
   "outputs": [],
   "source": [
    "df['date'] = dateTime_pdf[0]\n",
    "df['Time'] = dateTime_pdf[1]"
   ]
  },
  {
   "cell_type": "code",
   "execution_count": 63,
   "id": "2fd25f8f",
   "metadata": {},
   "outputs": [],
   "source": [
    "df['date'] = dateTime_pdf[0]\n",
    "df['Time'] = dateTime_pdf[1]\n",
    "df['dateTime'] = pd.to_datetime(df['date'].astype(str) + ' ' + df['Time'].astype(str))\n",
    "df.sort_values(by=['customerId','accountNumber','dateTime'], inplace=True)"
   ]
  },
  {
   "cell_type": "code",
   "execution_count": 64,
   "id": "8dc285fe",
   "metadata": {},
   "outputs": [
    {
     "data": {
      "text/html": [
       "<div>\n",
       "<style scoped>\n",
       "    .dataframe tbody tr th:only-of-type {\n",
       "        vertical-align: middle;\n",
       "    }\n",
       "\n",
       "    .dataframe tbody tr th {\n",
       "        vertical-align: top;\n",
       "    }\n",
       "\n",
       "    .dataframe thead th {\n",
       "        text-align: right;\n",
       "    }\n",
       "</style>\n",
       "<table border=\"1\" class=\"dataframe\">\n",
       "  <thead>\n",
       "    <tr style=\"text-align: right;\">\n",
       "      <th></th>\n",
       "      <th>0</th>\n",
       "      <th>1</th>\n",
       "    </tr>\n",
       "  </thead>\n",
       "  <tbody>\n",
       "    <tr>\n",
       "      <th>0</th>\n",
       "      <td>2016-01-08</td>\n",
       "      <td>19:04:50</td>\n",
       "    </tr>\n",
       "    <tr>\n",
       "      <th>1</th>\n",
       "      <td>2016-01-09</td>\n",
       "      <td>22:32:39</td>\n",
       "    </tr>\n",
       "    <tr>\n",
       "      <th>2</th>\n",
       "      <td>2016-01-11</td>\n",
       "      <td>13:36:55</td>\n",
       "    </tr>\n",
       "    <tr>\n",
       "      <th>3</th>\n",
       "      <td>2016-01-11</td>\n",
       "      <td>22:47:46</td>\n",
       "    </tr>\n",
       "    <tr>\n",
       "      <th>4</th>\n",
       "      <td>2016-01-16</td>\n",
       "      <td>01:41:11</td>\n",
       "    </tr>\n",
       "  </tbody>\n",
       "</table>\n",
       "</div>"
      ],
      "text/plain": [
       "            0         1\n",
       "0  2016-01-08  19:04:50\n",
       "1  2016-01-09  22:32:39\n",
       "2  2016-01-11  13:36:55\n",
       "3  2016-01-11  22:47:46\n",
       "4  2016-01-16  01:41:11"
      ]
     },
     "execution_count": 64,
     "metadata": {},
     "output_type": "execute_result"
    }
   ],
   "source": [
    "dateTime_pdf.head()"
   ]
  },
  {
   "cell_type": "code",
   "execution_count": 65,
   "id": "2745ed4f",
   "metadata": {
    "scrolled": true
   },
   "outputs": [
    {
     "data": {
      "text/html": [
       "<div>\n",
       "<style scoped>\n",
       "    .dataframe tbody tr th:only-of-type {\n",
       "        vertical-align: middle;\n",
       "    }\n",
       "\n",
       "    .dataframe tbody tr th {\n",
       "        vertical-align: top;\n",
       "    }\n",
       "\n",
       "    .dataframe thead th {\n",
       "        text-align: right;\n",
       "    }\n",
       "</style>\n",
       "<table border=\"1\" class=\"dataframe\">\n",
       "  <thead>\n",
       "    <tr style=\"text-align: right;\">\n",
       "      <th></th>\n",
       "      <th>customerId</th>\n",
       "      <th>accountNumber</th>\n",
       "      <th>dateTime</th>\n",
       "      <th>transactionAmount</th>\n",
       "      <th>transactionType</th>\n",
       "    </tr>\n",
       "  </thead>\n",
       "  <tbody>\n",
       "    <tr>\n",
       "      <th>583485</th>\n",
       "      <td>100547107</td>\n",
       "      <td>100547107</td>\n",
       "      <td>2016-01-02 01:47:46</td>\n",
       "      <td>64.66</td>\n",
       "      <td>PURCHASE</td>\n",
       "    </tr>\n",
       "    <tr>\n",
       "      <th>583486</th>\n",
       "      <td>100547107</td>\n",
       "      <td>100547107</td>\n",
       "      <td>2016-01-16 23:35:41</td>\n",
       "      <td>5.31</td>\n",
       "      <td>PURCHASE</td>\n",
       "    </tr>\n",
       "    <tr>\n",
       "      <th>583487</th>\n",
       "      <td>100547107</td>\n",
       "      <td>100547107</td>\n",
       "      <td>2016-01-17 21:50:04</td>\n",
       "      <td>204.23</td>\n",
       "      <td>PURCHASE</td>\n",
       "    </tr>\n",
       "    <tr>\n",
       "      <th>583488</th>\n",
       "      <td>100547107</td>\n",
       "      <td>100547107</td>\n",
       "      <td>2016-01-29 05:19:50</td>\n",
       "      <td>155.28</td>\n",
       "      <td>PURCHASE</td>\n",
       "    </tr>\n",
       "    <tr>\n",
       "      <th>583489</th>\n",
       "      <td>100547107</td>\n",
       "      <td>100547107</td>\n",
       "      <td>2016-01-30 20:49:10</td>\n",
       "      <td>91.14</td>\n",
       "      <td>PURCHASE</td>\n",
       "    </tr>\n",
       "    <tr>\n",
       "      <th>583490</th>\n",
       "      <td>100547107</td>\n",
       "      <td>100547107</td>\n",
       "      <td>2016-02-06 22:31:44</td>\n",
       "      <td>2.80</td>\n",
       "      <td>PURCHASE</td>\n",
       "    </tr>\n",
       "    <tr>\n",
       "      <th>583491</th>\n",
       "      <td>100547107</td>\n",
       "      <td>100547107</td>\n",
       "      <td>2016-02-10 06:48:23</td>\n",
       "      <td>119.77</td>\n",
       "      <td>PURCHASE</td>\n",
       "    </tr>\n",
       "    <tr>\n",
       "      <th>583492</th>\n",
       "      <td>100547107</td>\n",
       "      <td>100547107</td>\n",
       "      <td>2016-02-11 08:28:07</td>\n",
       "      <td>211.11</td>\n",
       "      <td>PURCHASE</td>\n",
       "    </tr>\n",
       "    <tr>\n",
       "      <th>583493</th>\n",
       "      <td>100547107</td>\n",
       "      <td>100547107</td>\n",
       "      <td>2016-02-20 01:01:47</td>\n",
       "      <td>66.23</td>\n",
       "      <td>PURCHASE</td>\n",
       "    </tr>\n",
       "    <tr>\n",
       "      <th>583494</th>\n",
       "      <td>100547107</td>\n",
       "      <td>100547107</td>\n",
       "      <td>2016-02-26 04:02:55</td>\n",
       "      <td>1.06</td>\n",
       "      <td>PURCHASE</td>\n",
       "    </tr>\n",
       "  </tbody>\n",
       "</table>\n",
       "</div>"
      ],
      "text/plain": [
       "       customerId accountNumber            dateTime  transactionAmount  \\\n",
       "583485  100547107     100547107 2016-01-02 01:47:46              64.66   \n",
       "583486  100547107     100547107 2016-01-16 23:35:41               5.31   \n",
       "583487  100547107     100547107 2016-01-17 21:50:04             204.23   \n",
       "583488  100547107     100547107 2016-01-29 05:19:50             155.28   \n",
       "583489  100547107     100547107 2016-01-30 20:49:10              91.14   \n",
       "583490  100547107     100547107 2016-02-06 22:31:44               2.80   \n",
       "583491  100547107     100547107 2016-02-10 06:48:23             119.77   \n",
       "583492  100547107     100547107 2016-02-11 08:28:07             211.11   \n",
       "583493  100547107     100547107 2016-02-20 01:01:47              66.23   \n",
       "583494  100547107     100547107 2016-02-26 04:02:55               1.06   \n",
       "\n",
       "       transactionType  \n",
       "583485        PURCHASE  \n",
       "583486        PURCHASE  \n",
       "583487        PURCHASE  \n",
       "583488        PURCHASE  \n",
       "583489        PURCHASE  \n",
       "583490        PURCHASE  \n",
       "583491        PURCHASE  \n",
       "583492        PURCHASE  \n",
       "583493        PURCHASE  \n",
       "583494        PURCHASE  "
      ]
     },
     "execution_count": 65,
     "metadata": {},
     "output_type": "execute_result"
    }
   ],
   "source": [
    "df[['customerId','accountNumber','dateTime','transactionAmount','transactionType']].head(10)"
   ]
  },
  {
   "cell_type": "markdown",
   "id": "77affc23",
   "metadata": {},
   "source": [
    "### Now let convert isFraud to numberic value.\n"
   ]
  },
  {
   "cell_type": "code",
   "execution_count": 69,
   "id": "08c2eeec",
   "metadata": {},
   "outputs": [],
   "source": [
    "df['isFraud'] = df['isFraud'].apply(lambda x: 1 if x == True else 0)"
   ]
  },
  {
   "cell_type": "markdown",
   "id": "14b838a7",
   "metadata": {},
   "source": [
    "### Handle date and datetime"
   ]
  },
  {
   "cell_type": "code",
   "execution_count": null,
   "id": "b3a9a031",
   "metadata": {},
   "outputs": [],
   "source": [
    "## Convert our date columns to datetime"
   ]
  },
  {
   "cell_type": "code",
   "execution_count": 70,
   "id": "08b8db6a",
   "metadata": {},
   "outputs": [
    {
     "name": "stderr",
     "output_type": "stream",
     "text": [
      "/anaconda3/lib/python3.7/site-packages/ipykernel_launcher.py:6: SettingWithCopyWarning: \n",
      "A value is trying to be set on a copy of a slice from a DataFrame.\n",
      "Try using .loc[row_indexer,col_indexer] = value instead\n",
      "\n",
      "See the caveats in the documentation: https://pandas.pydata.org/pandas-docs/stable/user_guide/indexing.html#returning-a-view-versus-a-copy\n",
      "  \n",
      "/anaconda3/lib/python3.7/site-packages/ipykernel_launcher.py:7: SettingWithCopyWarning: \n",
      "A value is trying to be set on a copy of a slice from a DataFrame.\n",
      "Try using .loc[row_indexer,col_indexer] = value instead\n",
      "\n",
      "See the caveats in the documentation: https://pandas.pydata.org/pandas-docs/stable/user_guide/indexing.html#returning-a-view-versus-a-copy\n",
      "  import sys\n",
      "/anaconda3/lib/python3.7/site-packages/ipykernel_launcher.py:8: SettingWithCopyWarning: \n",
      "A value is trying to be set on a copy of a slice from a DataFrame.\n",
      "Try using .loc[row_indexer,col_indexer] = value instead\n",
      "\n",
      "See the caveats in the documentation: https://pandas.pydata.org/pandas-docs/stable/user_guide/indexing.html#returning-a-view-versus-a-copy\n",
      "  \n",
      "/anaconda3/lib/python3.7/site-packages/ipykernel_launcher.py:9: SettingWithCopyWarning: \n",
      "A value is trying to be set on a copy of a slice from a DataFrame.\n",
      "Try using .loc[row_indexer,col_indexer] = value instead\n",
      "\n",
      "See the caveats in the documentation: https://pandas.pydata.org/pandas-docs/stable/user_guide/indexing.html#returning-a-view-versus-a-copy\n",
      "  if __name__ == '__main__':\n"
     ]
    },
    {
     "data": {
      "text/html": [
       "<div>\n",
       "<style scoped>\n",
       "    .dataframe tbody tr th:only-of-type {\n",
       "        vertical-align: middle;\n",
       "    }\n",
       "\n",
       "    .dataframe tbody tr th {\n",
       "        vertical-align: top;\n",
       "    }\n",
       "\n",
       "    .dataframe thead th {\n",
       "        text-align: right;\n",
       "    }\n",
       "</style>\n",
       "<table border=\"1\" class=\"dataframe\">\n",
       "  <thead>\n",
       "    <tr style=\"text-align: right;\">\n",
       "      <th></th>\n",
       "      <th>accountOpenDate</th>\n",
       "      <th>transactionDateTime</th>\n",
       "      <th>currentExpDate</th>\n",
       "      <th>dateOfLastAddressChange</th>\n",
       "    </tr>\n",
       "  </thead>\n",
       "  <tbody>\n",
       "    <tr>\n",
       "      <th>583485</th>\n",
       "      <td>2011-10-30</td>\n",
       "      <td>2016-01-02 01:47:46</td>\n",
       "      <td>2030-02-01</td>\n",
       "      <td>2011-10-30</td>\n",
       "    </tr>\n",
       "    <tr>\n",
       "      <th>583486</th>\n",
       "      <td>2011-10-30</td>\n",
       "      <td>2016-01-16 23:35:41</td>\n",
       "      <td>2023-01-01</td>\n",
       "      <td>2011-10-30</td>\n",
       "    </tr>\n",
       "    <tr>\n",
       "      <th>583487</th>\n",
       "      <td>2011-10-30</td>\n",
       "      <td>2016-01-17 21:50:04</td>\n",
       "      <td>2029-06-01</td>\n",
       "      <td>2011-10-30</td>\n",
       "    </tr>\n",
       "    <tr>\n",
       "      <th>583488</th>\n",
       "      <td>2011-10-30</td>\n",
       "      <td>2016-01-29 05:19:50</td>\n",
       "      <td>2020-12-01</td>\n",
       "      <td>2011-10-30</td>\n",
       "    </tr>\n",
       "    <tr>\n",
       "      <th>583489</th>\n",
       "      <td>2011-10-30</td>\n",
       "      <td>2016-01-30 20:49:10</td>\n",
       "      <td>2027-01-01</td>\n",
       "      <td>2011-10-30</td>\n",
       "    </tr>\n",
       "  </tbody>\n",
       "</table>\n",
       "</div>"
      ],
      "text/plain": [
       "       accountOpenDate transactionDateTime currentExpDate  \\\n",
       "583485      2011-10-30 2016-01-02 01:47:46     2030-02-01   \n",
       "583486      2011-10-30 2016-01-16 23:35:41     2023-01-01   \n",
       "583487      2011-10-30 2016-01-17 21:50:04     2029-06-01   \n",
       "583488      2011-10-30 2016-01-29 05:19:50     2020-12-01   \n",
       "583489      2011-10-30 2016-01-30 20:49:10     2027-01-01   \n",
       "\n",
       "       dateOfLastAddressChange  \n",
       "583485              2011-10-30  \n",
       "583486              2011-10-30  \n",
       "583487              2011-10-30  \n",
       "583488              2011-10-30  \n",
       "583489              2011-10-30  "
      ]
     },
     "execution_count": 70,
     "metadata": {},
     "output_type": "execute_result"
    }
   ],
   "source": [
    "## temporally remove date column\n",
    "date_columns=['accountOpenDate', 'transactionDateTime', 'currentExpDate' , 'dateOfLastAddressChange']\n",
    "df_date_columns = df[date_columns]\n",
    "\n",
    "## convert this columns to datetime\n",
    "df_date_columns['accountOpenDate'] = pd.to_datetime(df_date_columns['accountOpenDate'], format = \"%Y-%m-%d\")\n",
    "df_date_columns['transactionDateTime'] = pd.to_datetime(df_date_columns['transactionDateTime'], format = \"%Y-%m-%dT%H:%M:%S\")\n",
    "df_date_columns['currentExpDate'] = pd.to_datetime(df_date_columns['currentExpDate'], format = \"%m/%Y\")\n",
    "df_date_columns['dateOfLastAddressChange'] = pd.to_datetime(df_date_columns['dateOfLastAddressChange'], format = \"%Y-%m-%d\")\n",
    "df_date_columns.head()"
   ]
  },
  {
   "cell_type": "code",
   "execution_count": 73,
   "id": "cf5903bd",
   "metadata": {},
   "outputs": [
    {
     "data": {
      "text/html": [
       "<div>\n",
       "<style scoped>\n",
       "    .dataframe tbody tr th:only-of-type {\n",
       "        vertical-align: middle;\n",
       "    }\n",
       "\n",
       "    .dataframe tbody tr th {\n",
       "        vertical-align: top;\n",
       "    }\n",
       "\n",
       "    .dataframe thead th {\n",
       "        text-align: right;\n",
       "    }\n",
       "</style>\n",
       "<table border=\"1\" class=\"dataframe\">\n",
       "  <thead>\n",
       "    <tr style=\"text-align: right;\">\n",
       "      <th></th>\n",
       "      <th>accountNumber</th>\n",
       "      <th>customerId</th>\n",
       "      <th>creditLimit</th>\n",
       "      <th>availableMoney</th>\n",
       "      <th>transactionAmount</th>\n",
       "      <th>merchantName</th>\n",
       "      <th>acqCountry</th>\n",
       "      <th>merchantCountryCode</th>\n",
       "      <th>posEntryMode</th>\n",
       "      <th>posConditionCode</th>\n",
       "      <th>...</th>\n",
       "      <th>currentBalance</th>\n",
       "      <th>cardPresent</th>\n",
       "      <th>expirationDateKeyInMatch</th>\n",
       "      <th>date</th>\n",
       "      <th>Time</th>\n",
       "      <th>dateTime</th>\n",
       "      <th>accountOpenDate</th>\n",
       "      <th>transactionDateTime</th>\n",
       "      <th>currentExpDate</th>\n",
       "      <th>dateOfLastAddressChange</th>\n",
       "    </tr>\n",
       "  </thead>\n",
       "  <tbody>\n",
       "    <tr>\n",
       "      <th>583485</th>\n",
       "      <td>100547107</td>\n",
       "      <td>100547107</td>\n",
       "      <td>2500.0</td>\n",
       "      <td>2500.00</td>\n",
       "      <td>64.66</td>\n",
       "      <td>Popeyes #414406</td>\n",
       "      <td>US</td>\n",
       "      <td>US</td>\n",
       "      <td>09</td>\n",
       "      <td>01</td>\n",
       "      <td>...</td>\n",
       "      <td>0.00</td>\n",
       "      <td>True</td>\n",
       "      <td>False</td>\n",
       "      <td>2016-01-02</td>\n",
       "      <td>01:47:46</td>\n",
       "      <td>2016-01-02 01:47:46</td>\n",
       "      <td>2011-10-30</td>\n",
       "      <td>2016-01-02 01:47:46</td>\n",
       "      <td>2030-02-01</td>\n",
       "      <td>2011-10-30</td>\n",
       "    </tr>\n",
       "    <tr>\n",
       "      <th>583486</th>\n",
       "      <td>100547107</td>\n",
       "      <td>100547107</td>\n",
       "      <td>2500.0</td>\n",
       "      <td>2435.34</td>\n",
       "      <td>5.31</td>\n",
       "      <td>Popeyes #700785</td>\n",
       "      <td>US</td>\n",
       "      <td>US</td>\n",
       "      <td>80</td>\n",
       "      <td>01</td>\n",
       "      <td>...</td>\n",
       "      <td>64.66</td>\n",
       "      <td>True</td>\n",
       "      <td>False</td>\n",
       "      <td>2016-01-16</td>\n",
       "      <td>23:35:41</td>\n",
       "      <td>2016-01-16 23:35:41</td>\n",
       "      <td>2011-10-30</td>\n",
       "      <td>2016-01-16 23:35:41</td>\n",
       "      <td>2023-01-01</td>\n",
       "      <td>2011-10-30</td>\n",
       "    </tr>\n",
       "    <tr>\n",
       "      <th>583487</th>\n",
       "      <td>100547107</td>\n",
       "      <td>100547107</td>\n",
       "      <td>2500.0</td>\n",
       "      <td>2430.03</td>\n",
       "      <td>204.23</td>\n",
       "      <td>Arbys #46046</td>\n",
       "      <td>US</td>\n",
       "      <td>US</td>\n",
       "      <td>02</td>\n",
       "      <td>01</td>\n",
       "      <td>...</td>\n",
       "      <td>69.97</td>\n",
       "      <td>True</td>\n",
       "      <td>False</td>\n",
       "      <td>2016-01-17</td>\n",
       "      <td>21:50:04</td>\n",
       "      <td>2016-01-17 21:50:04</td>\n",
       "      <td>2011-10-30</td>\n",
       "      <td>2016-01-17 21:50:04</td>\n",
       "      <td>2029-06-01</td>\n",
       "      <td>2011-10-30</td>\n",
       "    </tr>\n",
       "    <tr>\n",
       "      <th>583488</th>\n",
       "      <td>100547107</td>\n",
       "      <td>100547107</td>\n",
       "      <td>2500.0</td>\n",
       "      <td>2225.80</td>\n",
       "      <td>155.28</td>\n",
       "      <td>Shake Shack #968081</td>\n",
       "      <td>US</td>\n",
       "      <td>US</td>\n",
       "      <td>05</td>\n",
       "      <td>08</td>\n",
       "      <td>...</td>\n",
       "      <td>274.20</td>\n",
       "      <td>True</td>\n",
       "      <td>False</td>\n",
       "      <td>2016-01-29</td>\n",
       "      <td>05:19:50</td>\n",
       "      <td>2016-01-29 05:19:50</td>\n",
       "      <td>2011-10-30</td>\n",
       "      <td>2016-01-29 05:19:50</td>\n",
       "      <td>2020-12-01</td>\n",
       "      <td>2011-10-30</td>\n",
       "    </tr>\n",
       "    <tr>\n",
       "      <th>583489</th>\n",
       "      <td>100547107</td>\n",
       "      <td>100547107</td>\n",
       "      <td>2500.0</td>\n",
       "      <td>2070.52</td>\n",
       "      <td>91.14</td>\n",
       "      <td>In-N-Out #27394</td>\n",
       "      <td>US</td>\n",
       "      <td>US</td>\n",
       "      <td>09</td>\n",
       "      <td>01</td>\n",
       "      <td>...</td>\n",
       "      <td>429.48</td>\n",
       "      <td>True</td>\n",
       "      <td>False</td>\n",
       "      <td>2016-01-30</td>\n",
       "      <td>20:49:10</td>\n",
       "      <td>2016-01-30 20:49:10</td>\n",
       "      <td>2011-10-30</td>\n",
       "      <td>2016-01-30 20:49:10</td>\n",
       "      <td>2027-01-01</td>\n",
       "      <td>2011-10-30</td>\n",
       "    </tr>\n",
       "  </tbody>\n",
       "</table>\n",
       "<p>5 rows × 26 columns</p>\n",
       "</div>"
      ],
      "text/plain": [
       "       accountNumber customerId  creditLimit  availableMoney  \\\n",
       "583485     100547107  100547107       2500.0         2500.00   \n",
       "583486     100547107  100547107       2500.0         2435.34   \n",
       "583487     100547107  100547107       2500.0         2430.03   \n",
       "583488     100547107  100547107       2500.0         2225.80   \n",
       "583489     100547107  100547107       2500.0         2070.52   \n",
       "\n",
       "        transactionAmount         merchantName acqCountry merchantCountryCode  \\\n",
       "583485              64.66      Popeyes #414406         US                  US   \n",
       "583486               5.31      Popeyes #700785         US                  US   \n",
       "583487             204.23         Arbys #46046         US                  US   \n",
       "583488             155.28  Shake Shack #968081         US                  US   \n",
       "583489              91.14      In-N-Out #27394         US                  US   \n",
       "\n",
       "       posEntryMode posConditionCode  ... currentBalance cardPresent  \\\n",
       "583485           09               01  ...           0.00        True   \n",
       "583486           80               01  ...          64.66        True   \n",
       "583487           02               01  ...          69.97        True   \n",
       "583488           05               08  ...         274.20        True   \n",
       "583489           09               01  ...         429.48        True   \n",
       "\n",
       "       expirationDateKeyInMatch        date      Time            dateTime  \\\n",
       "583485                    False  2016-01-02  01:47:46 2016-01-02 01:47:46   \n",
       "583486                    False  2016-01-16  23:35:41 2016-01-16 23:35:41   \n",
       "583487                    False  2016-01-17  21:50:04 2016-01-17 21:50:04   \n",
       "583488                    False  2016-01-29  05:19:50 2016-01-29 05:19:50   \n",
       "583489                    False  2016-01-30  20:49:10 2016-01-30 20:49:10   \n",
       "\n",
       "        accountOpenDate  transactionDateTime  currentExpDate  \\\n",
       "583485       2011-10-30  2016-01-02 01:47:46      2030-02-01   \n",
       "583486       2011-10-30  2016-01-16 23:35:41      2023-01-01   \n",
       "583487       2011-10-30  2016-01-17 21:50:04      2029-06-01   \n",
       "583488       2011-10-30  2016-01-29 05:19:50      2020-12-01   \n",
       "583489       2011-10-30  2016-01-30 20:49:10      2027-01-01   \n",
       "\n",
       "       dateOfLastAddressChange  \n",
       "583485              2011-10-30  \n",
       "583486              2011-10-30  \n",
       "583487              2011-10-30  \n",
       "583488              2011-10-30  \n",
       "583489              2011-10-30  \n",
       "\n",
       "[5 rows x 26 columns]"
      ]
     },
     "execution_count": 73,
     "metadata": {},
     "output_type": "execute_result"
    }
   ],
   "source": [
    "# remove categorial columns from df_clean and concat df_date_clean\n",
    "df_clean = df.drop(date_columns, axis=1)\n",
    "df_clean = pd.concat([df_clean, df_date_columns], axis=1)\n",
    "df_clean.head()"
   ]
  },
  {
   "cell_type": "markdown",
   "id": "5315f3e7",
   "metadata": {},
   "source": [
    "#### future work: \n",
    "- In the future, with Machine Learning (ML) techniques It can be efficiently discovered fraudulent patterns and predict transactions that are most likely to be fraudulent."
   ]
  },
  {
   "cell_type": "code",
   "execution_count": null,
   "id": "fcbc756d",
   "metadata": {},
   "outputs": [],
   "source": []
  }
 ],
 "metadata": {
  "kernelspec": {
   "display_name": "Python 3 (ipykernel)",
   "language": "python",
   "name": "python3"
  },
  "language_info": {
   "codemirror_mode": {
    "name": "ipython",
    "version": 3
   },
   "file_extension": ".py",
   "mimetype": "text/x-python",
   "name": "python",
   "nbconvert_exporter": "python",
   "pygments_lexer": "ipython3",
   "version": "3.7.3"
  }
 },
 "nbformat": 4,
 "nbformat_minor": 5
}
